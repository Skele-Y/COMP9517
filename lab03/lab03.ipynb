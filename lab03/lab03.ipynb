{
 "cells": [
  {
   "cell_type": "markdown",
   "metadata": {},
   "source": [
    "The goal of this lab is to implement and compare a K-Nearest Neighbours (KNN) classifier, a Decision\n",
    "Tree (DT) classifier, and a Stochastic Gradient Descent (SGD) classifier. Below we provide a brief\n",
    "overview of these classifiers before specifying the task for this lab."
   ]
  },
  {
   "cell_type": "code",
   "execution_count": 13,
   "metadata": {},
   "outputs": [],
   "source": [
    "# Import relevant packages\n",
    "import tensorflow as tf\n",
    "import numpy as np\n",
    "\n",
    "from sklearn.neighbors import KNeighborsClassifier\n",
    "from sklearn.tree import DecisionTreeClassifier\n",
    "from sklearn.linear_model import SGDClassifier\n",
    "from sklearn import metrics\n",
    "from sklearn.model_selection import train_test_split"
   ]
  },
  {
   "cell_type": "code",
   "execution_count": 25,
   "metadata": {},
   "outputs": [],
   "source": [
    "# Step 2\n",
    "(x_train, y_train), (x_test, y_test) = tf.keras.datasets.fashion_mnist.load_data()"
   ]
  },
  {
   "cell_type": "code",
   "execution_count": 30,
   "metadata": {},
   "outputs": [
    {
     "name": "stdout",
     "output_type": "stream",
     "text": [
      "KNN Classifier\n",
      "Accuracy:  0.82\n",
      "Precision:  0.824949282236487\n",
      "Recall:  0.82\n",
      "F1 Score:  0.819827968618585\n",
      "\n",
      "DT Classifier\n",
      "Accuracy:  0.737\n",
      "Precision:  0.7416607146608223\n",
      "Recall:  0.737\n",
      "F1 Score:  0.7382467461119219\n",
      "\n",
      "SGD Classifier\n",
      "Accuracy:  0.775\n",
      "Precision:  0.8028296791923686\n",
      "Recall:  0.775\n",
      "F1 Score:  0.7684543229386854\n"
     ]
    },
    {
     "data": {
      "text/plain": [
       "array([[ 97,   1,   5,   0,   0,   0,   3,   0,   1,   0],\n",
       "       [  2, 100,   0,   3,   0,   0,   0,   0,   0,   0],\n",
       "       [  3,   1,  98,   0,   3,   0,   6,   0,   0,   0],\n",
       "       [ 20,   4,  10,  43,   8,   0,   7,   0,   1,   0],\n",
       "       [  1,   0,  49,   0,  58,   0,   6,   1,   0,   0],\n",
       "       [  0,   0,   2,   0,   0,  73,   0,   4,   2,   6],\n",
       "       [ 18,   0,  30,   0,   8,   0,  38,   0,   3,   0],\n",
       "       [  0,   0,   0,   0,   0,   1,   0,  88,   1,   5],\n",
       "       [  0,   0,   2,   0,   1,   0,   2,   0,  90,   0],\n",
       "       [  0,   0,   0,   0,   0,   1,   0,   4,   0,  90]], dtype=int64)"
      ]
     },
     "execution_count": 30,
     "metadata": {},
     "output_type": "execute_result"
    }
   ],
   "source": [
    "# Take 5000 samples for training and 1000 for testing\n",
    "training_size = 5000\n",
    "testing_size = 1000\n",
    "\n",
    "x_train = x_train[0:training_size]\n",
    "y_train = y_train[0:training_size]\n",
    "\n",
    "x_test = x_test[0:testing_size]\n",
    "y_test = y_test[0:testing_size]\n",
    "\n",
    "x_train = x_train.reshape(x_train.shape[0], -1)\n",
    "x_test = x_test.reshape(x_test.shape[0], -1)\n",
    "\n",
    "KNN = KNeighborsClassifier(\n",
    "    n_neighbors=3,\n",
    "    algorithm='auto',\n",
    "    leaf_size=30,\n",
    "    metric='minkowski',\n",
    "    p=1,\n",
    "    metric_params=None,\n",
    "    n_jobs=None\n",
    ")\n",
    "\n",
    "DT = DecisionTreeClassifier(\n",
    ")\n",
    "\n",
    "SGD = SGDClassifier (\n",
    "    max_iter=250\n",
    ")\n",
    "\n",
    "\n",
    "KNN.fit(x_train, y_train)\n",
    "result = KNN.predict(x_test)\n",
    "print(\"KNN Classifier\")\n",
    "print('Accuracy: ', metrics.accuracy_score(y_test, result))\n",
    "print('Precision: ', metrics.precision_score(y_test, result, average='weighted'))\n",
    "print('Recall: ', metrics.recall_score(y_test, result, average='weighted'))\n",
    "print('F1 Score: ', metrics.f1_score(y_test, result, average='weighted'))\n",
    "metrics.confusion_matrix(y_test, result)\n",
    "\n",
    "DT.fit(x_train, y_train)\n",
    "result = DT.predict(x_test)\n",
    "print(\"\\nDT Classifier\")\n",
    "print('Accuracy: ', metrics.accuracy_score(y_test, result))\n",
    "print('Precision: ', metrics.precision_score(y_test, result, average='weighted'))\n",
    "print('Recall: ', metrics.recall_score(y_test, result, average='weighted'))\n",
    "print('F1 Score: ', metrics.f1_score(y_test, result, average='weighted'))\n",
    "metrics.confusion_matrix(y_test, result)\n",
    "\n",
    "SGD.fit(x_train, y_train)\n",
    "result = SGD.predict(x_test)\n",
    "print(\"\\nSGD Classifier\")\n",
    "print('Accuracy: ', metrics.accuracy_score(y_test, result))\n",
    "print('Precision: ', metrics.precision_score(y_test, result, average='weighted'))\n",
    "print('Recall: ', metrics.recall_score(y_test, result, average='weighted'))\n",
    "print('F1 Score: ', metrics.f1_score(y_test, result, average='weighted'))\n",
    "metrics.confusion_matrix(y_test, result)\n"
   ]
  }
 ],
 "metadata": {
  "kernelspec": {
   "display_name": "COMP9517",
   "language": "python",
   "name": "python3"
  },
  "language_info": {
   "codemirror_mode": {
    "name": "ipython",
    "version": 3
   },
   "file_extension": ".py",
   "mimetype": "text/x-python",
   "name": "python",
   "nbconvert_exporter": "python",
   "pygments_lexer": "ipython3",
   "version": "3.11.6"
  },
  "orig_nbformat": 4
 },
 "nbformat": 4,
 "nbformat_minor": 2
}
