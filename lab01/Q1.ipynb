{
 "cells": [
  {
   "cell_type": "markdown",
   "metadata": {},
   "source": [
    "Contrast Stretching"
   ]
  },
  {
   "cell_type": "code",
   "execution_count": 5,
   "metadata": {},
   "outputs": [
    {
     "ename": "SyntaxError",
     "evalue": "positional argument follows keyword argument (<ipython-input-5-55380326efc2>, line 36)",
     "output_type": "error",
     "traceback": [
      "\u001b[1;36m  File \u001b[1;32m\"<ipython-input-5-55380326efc2>\"\u001b[1;36m, line \u001b[1;32m36\u001b[0m\n\u001b[1;33m    fig, (ax1, ax2) = plt.subplots(1, 3, figsize=12, 4)\u001b[0m\n\u001b[1;37m                                                    ^\u001b[0m\n\u001b[1;31mSyntaxError\u001b[0m\u001b[1;31m:\u001b[0m positional argument follows keyword argument\n"
     ]
    }
   ],
   "source": [
    "import cv2\n",
    "import numpy as np\n",
    "import matplotlib.pyplot as plt\n",
    "\n",
    "\n",
    "# Load file\n",
    "file = 'Oakland.png'\n",
    "img_bgr = cv2.imread(file)\n",
    "\n",
    "# Get height and h,w\n",
    "a = 0\n",
    "b = 255\n",
    "(h, w) = img_bgr.shape\n",
    "\n",
    "# Get min and max values for each channel\n",
    "# red\n",
    "r_min = img_bgr[..., 0].min()\n",
    "r_max = img_bgr[..., 0].max()\n",
    "# green\n",
    "g_min = img_bgr[..., 1].min()\n",
    "g_max = img_bgr[..., 1].max()\n",
    "# blue\n",
    "b_min = img_bgr[..., 2].min()\n",
    "b_max = img_bgr[..., 2].max()\n",
    "\n",
    "\n",
    "\n",
    "# Method 1\n",
    "img_1 = np.zeros_like(img_bgr)\n",
    "\n",
    "# Create a figure with two subplots\n",
    "fig, (ax1, ax2) = plt.subplots(1, 3, figsize=12, 4)\n",
    "\n",
    "\n",
    "# Hide the axes and show the figure\n",
    "ax1.axis('off')\n",
    "ax2.axis('off')\n",
    "plt.show()\n",
    "\n",
    "\n",
    " "
   ]
  },
  {
   "cell_type": "code",
   "execution_count": null,
   "metadata": {},
   "outputs": [
    {
     "ename": "SyntaxError",
     "evalue": "positional argument follows keyword argument (<ipython-input-2-bc1250d998ec>, line 6)",
     "output_type": "error",
     "traceback": [
      "\u001b[1;36m  File \u001b[1;32m\"<ipython-input-2-bc1250d998ec>\"\u001b[1;36m, line \u001b[1;32m6\u001b[0m\n\u001b[1;33m    fig, (ax1, ax2) = plt.subplots(1, 3, figsize=12, 4)\u001b[0m\n\u001b[1;37m                                                    ^\u001b[0m\n\u001b[1;31mSyntaxError\u001b[0m\u001b[1;31m:\u001b[0m positional argument follows keyword argument\n"
     ]
    }
   ],
   "source": [
    "# Method 2 - Convert Image to Greyscale\n",
    "\n"
   ]
  },
  {
   "cell_type": "code",
   "execution_count": null,
   "metadata": {},
   "outputs": [],
   "source": [
    "# Method 3 \n",
    "# Convert BGR to HSV\n",
    "img_hsv = cv2.cvtColor(img_bgr, cv2.COLOR_BGR2HSV)\n",
    "\n",
    "# Create a figure with two subplots\n",
    "fig, (ax1, ax2) = plt.subplots(1, 3, figsize=12, 4)\n",
    "\n",
    "# Hide the axes and show the figure\n",
    "ax1.axis('off')\n",
    "ax2.axis('off')\n",
    "plt.show()"
   ]
  }
 ],
 "metadata": {
  "kernelspec": {
   "display_name": "COMP9517",
   "language": "python",
   "name": "python3"
  },
  "language_info": {
   "codemirror_mode": {
    "name": "ipython",
    "version": 3
   },
   "file_extension": ".py",
   "mimetype": "text/x-python",
   "name": "python",
   "nbconvert_exporter": "python",
   "pygments_lexer": "ipython3",
   "version": "3.7.10"
  },
  "orig_nbformat": 4
 },
 "nbformat": 4,
 "nbformat_minor": 2
}
