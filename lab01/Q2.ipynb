{
 "cells": [
  {
   "cell_type": "markdown",
   "metadata": {},
   "source": [
    "Write an algorithm that computes and plots the histogram of an image and\n",
    "also reports the minimum pixel value and the maximum pixel value in the image. Then execute\n",
    "your algorithm to compare the histograms and extreme values before and after contrast\n",
    "stretching of image Oakland.png for each of the three approaches in the previous task.\n",
    "\n",
    "More specifically, for the first contrast-stretching approach, show the histogram and extreme\n",
    "values for each of the three channels (R, G, B) of both the input image and the output image.\n",
    "For the second approach, show the histogram and extreme values of only the gray value\n",
    "representation (Y) of both the input image and the output image after conversion. For the\n",
    "third approach, show the histogram and extreme values of only the value channel (V) of both\n",
    "the input image and the output image after conversion.\n",
    "To facilitate visual comparison, present the histograms of the input image and corresponding\n",
    "output image side by side in each case."
   ]
  },
  {
   "cell_type": "code",
   "execution_count": 2,
   "metadata": {},
   "outputs": [
    {
     "name": "stdout",
     "output_type": "stream",
     "text": [
      "[0 0 0 0 0 0 0 0 0 0 0 0 0 0 0 0 0 0 0 0 0 0 0 0 0 0 0 0 0 0 0 0 0 0 0 0 0\n",
      " 0 0 0 0 0 0 0 0 0 0 0 0 0 0 0 0 0 0 0 0 0 0 0 0 0 0 0 0 0 0 0 0 0 0 0 0 0\n",
      " 0 0 0 0 0 0 0 0 0 0 0 0 0 0 0 0 0 0 0 0 0 0 0 0 0 0 0 0 0 0 0 0 0 0 0 0 0\n",
      " 0 0 0 0 0 0 0 0 0 0 0 0 0 0 0 0 0 0 0 0 0 0 0 0 0 0 0 0 0 0 0 0 0 0 0 0 0\n",
      " 0 0 0 0 0 0 0 0 0 0 0 0 0 0 0 0 0 0 0 0 0 0 0 0 0 0 0 0 0 0 0 0 0 0 0 0 0\n",
      " 0 0 0 0 0 0 0 0 0 0 0 0 0 0 0 0 0 0 0 0 0 0 0 0 0 0 0 0 0 0 0 0 0 0 0 0 0\n",
      " 0 0 0 0 0 0 0 0 0 0 0 0 0 0 0 0 0 0 0 0 0 0 0 0 0 0 0 0 0 0 0 0 0 0]\n"
     ]
    },
    {
     "ename": "KeyboardInterrupt",
     "evalue": "",
     "output_type": "error",
     "traceback": [
      "\u001b[1;31m---------------------------------------------------------------------------\u001b[0m",
      "\u001b[1;31mKeyboardInterrupt\u001b[0m                         Traceback (most recent call last)",
      "\u001b[1;32mc:\\Users\\shady\\Documents\\git\\COMP9517\\lab01\\Q2.ipynb Cell 2\u001b[0m line \u001b[0;36m1\n\u001b[0;32m     <a href='vscode-notebook-cell:/c%3A/Users/shady/Documents/git/COMP9517/lab01/Q2.ipynb#W0sZmlsZQ%3D%3D?line=13'>14</a>\u001b[0m \u001b[39mfor\u001b[39;00m row \u001b[39min\u001b[39;00m img_bgr:\n\u001b[0;32m     <a href='vscode-notebook-cell:/c%3A/Users/shady/Documents/git/COMP9517/lab01/Q2.ipynb#W0sZmlsZQ%3D%3D?line=14'>15</a>\u001b[0m     \u001b[39mfor\u001b[39;00m pixel_value \u001b[39min\u001b[39;00m row:\n\u001b[1;32m---> <a href='vscode-notebook-cell:/c%3A/Users/shady/Documents/git/COMP9517/lab01/Q2.ipynb#W0sZmlsZQ%3D%3D?line=15'>16</a>\u001b[0m         histogram[pixel_value] \u001b[39m+\u001b[39m\u001b[39m=\u001b[39m \u001b[39m1\u001b[39m\n",
      "\u001b[1;31mKeyboardInterrupt\u001b[0m: "
     ]
    }
   ],
   "source": [
    "#Load images\n",
    "import cv2\n",
    "import numpy as np\n",
    "import matplotlib.pyplot as plt\n",
    "\n",
    "# Load file\n",
    "file = './contrast_stretched/bgr.png'\n",
    "img_bgr = cv2.imread(file)\n",
    "\n",
    "\n",
    "histogram = np.zeros((256), dtype=int)\n",
    "print(histogram)\n",
    "\n",
    "for row in img_bgr:\n",
    "    for pixel_value in row:\n",
    "        histogram[pixel_value] += 1\n"
   ]
  },
  {
   "cell_type": "code",
   "execution_count": 3,
   "metadata": {},
   "outputs": [
    {
     "name": "stdout",
     "output_type": "stream",
     "text": [
      "[0 0 0 0 0 0 0 0 0 0 0 0 0 0 0 0 0 0 0 0 0 0 0 0 0 0 0 0 0 0 0 0 0 0 0 0 0\n",
      " 0 0 0 0 0 0 0 0 0 0 0 0 0 0 0 0 0 0 0 0 0 0 0 0 0 0 0 0 0 0 0 0 0 0 0 0 0\n",
      " 0 0 0 0 0 0 0 0 0 0 0 0 0 0 0 0 0 0 0 0 0 0 0 0 0 0 0 0 0 0 0 0 0 0 0 0 0\n",
      " 0 0 0 0 0 0 0 0 0 0 0 0 0 0 0 0 0 0 0 0 0 0 0 0 0 0 0 0 0 0 0 0 0 0 0 0 0\n",
      " 0 0 0 0 0 0 0 0 0 0 0 0 0 0 0 0 0 0 0 0 0 0 0 0 0 0 0 0 0 0 0 0 0 0 0 0 0\n",
      " 0 0 0 0 0 0 0 0 0 0 0 0 0 0 0 0 0 0 0 0 0 0 0 0 0 0 0 0 0 0 0 0 0 0 0 0 0\n",
      " 0 0 0 0 0 0 0 0 0 0 0 0 0 0 0 0 0 0 0 0 0 0 0 0 0 0 0 0 0 0 0 0 0 0]\n"
     ]
    }
   ],
   "source": [
    "# Approach 2\n",
    "\n",
    "# Load file\n",
    "file = './contrast_stretched/greyscale.png'\n",
    "img_bgr = cv2.imread(file)\n",
    "\n",
    "\n",
    "histogramGrey = np.zeros((256), dtype=int)\n",
    "print(histogramGrey)\n",
    "\n",
    "for row in img_bgr:\n",
    "    for pixel_value in row:\n",
    "        histogram[pixel_value] += 1\n"
   ]
  }
 ],
 "metadata": {
  "kernelspec": {
   "display_name": "COMP9517",
   "language": "python",
   "name": "python3"
  },
  "language_info": {
   "codemirror_mode": {
    "name": "ipython",
    "version": 3
   },
   "file_extension": ".py",
   "mimetype": "text/x-python",
   "name": "python",
   "nbconvert_exporter": "python",
   "pygments_lexer": "ipython3",
   "version": "3.11.5"
  },
  "orig_nbformat": 4
 },
 "nbformat": 4,
 "nbformat_minor": 2
}
