{
 "cells": [
  {
   "cell_type": "markdown",
   "metadata": {},
   "source": [
    "**Task (0.5 mark):** Write an algorithm that computes the Laplacian image of an input image\n",
    "using the above kernel. Apply the algorithm to the image Laplace.png.\n",
    "Notice that the calculations may produce negative output pixel values. Thus, make sure you\n",
    "use the right data types for the calculations and for the output image, and the right intensity\n",
    "mapping to display the output image."
   ]
  },
  {
   "cell_type": "code",
   "execution_count": 8,
   "metadata": {},
   "outputs": [
    {
     "data": {
      "image/png": "[encoded data removed]",
      "text/plain": [
       "<Figure size 640x480 with 1 Axes>"
      ]
     },
     "metadata": {},
     "output_type": "display_data"
    }
   ],
   "source": [
    "#Load images\n",
    "import cv2\n",
    "import numpy as np\n",
    "import matplotlib.pyplot as plt\n",
    "\n",
    "# Load file\n",
    "file = 'Laplace.png'\n",
    "img = cv2.imread(file,cv2.IMREAD_GRAYSCALE)\n",
    "\n",
    "kernel = np.array([[0, 1, 0],\n",
    "                             [1, -8, 1],\n",
    "                             [0, 1, 0]])\n",
    "\n",
    "\n",
    "# dimensions of the image and the kernel\n",
    "h, w = img.shape\n",
    "kh, kw = kernel.shape\n",
    "\n",
    "# empty output image\n",
    "output = np.zeros((h, w), dtype=np.uint8)\n",
    "\n",
    "for i in range(h):\n",
    "    for j in range(w):\n",
    "        result = 0\n",
    "        # Iterate over the kernel\n",
    "        for m in range(kh):\n",
    "            for n in range(kw):\n",
    "                # Calculate the coordinates in the image\n",
    "                x = i + m - kh // 2 \n",
    "                y = j + n - kw // 2\n",
    "\n",
    "                # Check if the coordinates are within the image boundaries\n",
    "                if 0 <= x < h and 0 <= y < w:\n",
    "                    # Convolution: Sum the product of kernel and image values\n",
    "                    result += kernel[m, n] * img[x, y]\n",
    "\n",
    "        # Store the result in the output image\n",
    "        output[i, j] = np.clip(result, 0, 255)\n",
    "\n",
    "        \n",
    "\n",
    "\n",
    "# Plot the Laplacian-convolved image using plt\n",
    "plt.imshow(output, cmap='gray')\n",
    "plt.title('Laplacian ')\n",
    "plt.axis('off')\n",
    "plt.show()"
   ]
  }
 ],
 "metadata": {
  "kernelspec": {
   "display_name": "COMP9517",
   "language": "python",
   "name": "python3"
  },
  "language_info": {
   "codemirror_mode": {
    "name": "ipython",
    "version": 3
   },
   "file_extension": ".py",
   "mimetype": "text/x-python",
   "name": "python",
   "nbconvert_exporter": "python",
   "pygments_lexer": "ipython3",
   "version": "3.11.5"
  },
  "orig_nbformat": 4
 },
 "nbformat": 4,
 "nbformat_minor": 2
}
