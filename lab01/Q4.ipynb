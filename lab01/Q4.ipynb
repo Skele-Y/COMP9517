{
 "cells": [
  {
   "cell_type": "markdown",
   "metadata": {},
   "source": [
    "**Task (0.5 mark):** Write an algorithm that computes the Laplacian image of an input image\n",
    "using the above kernel. Apply the algorithm to the image Laplace.png.\n",
    "Notice that the calculations may produce negative output pixel values. Thus, make sure you\n",
    "use the right data types for the calculations and for the output image, and the right intensity\n",
    "mapping to display the output image."
   ]
  },
  {
   "cell_type": "code",
   "execution_count": 11,
   "metadata": {},
   "outputs": [
    {
     "ename": "TypeError",
     "evalue": "array() takes from 1 to 2 positional arguments but 3 were given",
     "output_type": "error",
     "traceback": [
      "\u001b[1;31m---------------------------------------------------------------------------\u001b[0m",
      "\u001b[1;31mTypeError\u001b[0m                                 Traceback (most recent call last)",
      "\u001b[1;32mc:\\Users\\shady\\Documents\\git\\COMP9517\\lab01\\Q4.ipynb Cell 2\u001b[0m line \u001b[0;36m1\n\u001b[0;32m     <a href='vscode-notebook-cell:/c%3A/Users/shady/Documents/git/COMP9517/lab01/Q4.ipynb#W0sZmlsZQ%3D%3D?line=11'>12</a>\u001b[0m output2 \u001b[39m=\u001b[39m np\u001b[39m.\u001b[39mzeros(image\u001b[39m.\u001b[39mshape)\n\u001b[0;32m     <a href='vscode-notebook-cell:/c%3A/Users/shady/Documents/git/COMP9517/lab01/Q4.ipynb#W0sZmlsZQ%3D%3D?line=13'>14</a>\u001b[0m fxx \u001b[39m=\u001b[39m np\u001b[39m.\u001b[39marray([\u001b[39m1\u001b[39m, \u001b[39m-\u001b[39m\u001b[39m2\u001b[39m, \u001b[39m1\u001b[39m])\n\u001b[1;32m---> <a href='vscode-notebook-cell:/c%3A/Users/shady/Documents/git/COMP9517/lab01/Q4.ipynb#W0sZmlsZQ%3D%3D?line=14'>15</a>\u001b[0m fyy \u001b[39m=\u001b[39m np\u001b[39m.\u001b[39marray([\u001b[39m1\u001b[39m],[\u001b[39m-\u001b[39m\u001b[39m2\u001b[39m],[\u001b[39m1\u001b[39m])\n\u001b[0;32m     <a href='vscode-notebook-cell:/c%3A/Users/shady/Documents/git/COMP9517/lab01/Q4.ipynb#W0sZmlsZQ%3D%3D?line=17'>18</a>\u001b[0m \u001b[39mfor\u001b[39;00m i \u001b[39min\u001b[39;00m \u001b[39mrange\u001b[39m(h \u001b[39m-\u001b[39m \u001b[39m2\u001b[39m):\n\u001b[0;32m     <a href='vscode-notebook-cell:/c%3A/Users/shady/Documents/git/COMP9517/lab01/Q4.ipynb#W0sZmlsZQ%3D%3D?line=18'>19</a>\u001b[0m     \u001b[39mfor\u001b[39;00m j \u001b[39min\u001b[39;00m \u001b[39mrange\u001b[39m(w \u001b[39m-\u001b[39m \u001b[39m2\u001b[39m):\n",
      "\u001b[1;31mTypeError\u001b[0m: array() takes from 1 to 2 positional arguments but 3 were given"
     ]
    }
   ],
   "source": [
    "#Load images\n",
    "import cv2\n",
    "import numpy as np\n",
    "import matplotlib.pyplot as plt\n",
    "\n",
    "# Load file\n",
    "file = 'Laplace.png'\n",
    "image = cv2.imread(file,cv2.IMREAD_GRAYSCALE)\n",
    "(h, w) = image.shape\n",
    "\n",
    "output1 = np.zeros(image.shape)\n",
    "output2 = np.zeros(image.shape)\n",
    "\n",
    "fxx = np.array([1, -2, 1])\n",
    "fyy = np.array([1],[-2],[1])\n",
    "\n",
    "\n",
    "for i in range(h - 2):\n",
    "    for j in range(w - 2):\n",
    "        result = 0\n",
    "        for k in range(3):\n",
    "            result += fxx[k]*image[i,j]\n",
    "        output1[i,j] = result\n",
    "\n",
    "\n",
    "# Plot the Laplacian-convolved image using plt\n",
    "plt.imshow(output1, cmap='gray')\n",
    "plt.title('Laplacian ')\n",
    "plt.axis('off')\n",
    "plt.show()"
   ]
  }
 ],
 "metadata": {
  "kernelspec": {
   "display_name": "COMP9517",
   "language": "python",
   "name": "python3"
  },
  "language_info": {
   "codemirror_mode": {
    "name": "ipython",
    "version": 3
   },
   "file_extension": ".py",
   "mimetype": "text/x-python",
   "name": "python",
   "nbconvert_exporter": "python",
   "pygments_lexer": "ipython3",
   "version": "3.11.5"
  },
  "orig_nbformat": 4
 },
 "nbformat": 4,
 "nbformat_minor": 2
}
