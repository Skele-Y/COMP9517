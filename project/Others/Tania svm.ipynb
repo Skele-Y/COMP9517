{
 "cells": [
  {
   "cell_type": "markdown",
   "id": "7342bcef",
   "metadata": {},
   "source": [
    "# Dataset"
   ]
  },
  {
   "cell_type": "code",
   "execution_count": 1,
   "id": "67e05814",
   "metadata": {},
   "outputs": [
    {
     "name": "stdout",
     "output_type": "stream",
     "text": [
      "images: (2624, 300, 300), probabilities: (2624,), types: (2624,)\n",
      "\n"
     ]
    }
   ],
   "source": [
    "import sys\n",
    "sys.path.append('../elpv-dataset/utils')\n",
    "from elpv_reader import load_dataset\n",
    "images, probs, types = load_dataset()\n",
    "print(f'images: {images.shape}, probabilities: {probs.shape}, types: {types.shape}\\n')"
   ]
  },
  {
   "cell_type": "markdown",
   "id": "ae2fde34",
   "metadata": {},
   "source": [
    "# Feature extraction - SIFT/KAZE/ORB/BRISK"
   ]
  },
  {
   "cell_type": "code",
   "execution_count": 3,
   "id": "8a35380f",
   "metadata": {},
   "outputs": [],
   "source": [
    "import numpy as np\n",
    "import cv2\n",
    "from tqdm import tqdm"
   ]
  },
  {
   "cell_type": "code",
   "execution_count": 4,
   "id": "efd94113",
   "metadata": {},
   "outputs": [],
   "source": [
    "def extract_features(images, probs, method):\n",
    "    if method == 'sift':\n",
    "        extractor = cv2.SIFT_create()\n",
    "        description = 'SIFT'\n",
    "    elif method == 'kaze':\n",
    "        extractor = cv2.KAZE_create()\n",
    "        description = 'KAZE'\n",
    "    elif method == 'orb':\n",
    "        extractor = cv2.ORB_create()\n",
    "        description = 'ORB'\n",
    "    elif method == 'brisk':\n",
    "        extractor = cv2.BRISK_create()\n",
    "        description = 'BRISK'\n",
    "    \n",
    "    # list of descriptors for each image\n",
    "    descriptors_list = [extractor.detectAndCompute(i, None)[1] for i in tqdm(images, desc=f'Extracting {description} descriptors', colour=\"green\")]\n",
    "\n",
    "    # remove label values where no descriptors were found\n",
    "    invalid_indices = [idx for idx, i in enumerate(descriptors_list) if i is None]\n",
    "    new_y = np.delete(probs, invalid_indices)\n",
    "\n",
    "    # descriptors from all images into one array\n",
    "    all_descriptors = np.vstack([i for i in descriptors_list if i is not None])\n",
    "\n",
    "    return descriptors_list, new_y, all_descriptors"
   ]
  },
  {
   "cell_type": "markdown",
   "id": "63bc49c6",
   "metadata": {},
   "source": [
    "# Global descriptor - VLAD"
   ]
  },
  {
   "cell_type": "code",
   "execution_count": 5,
   "id": "475237be",
   "metadata": {},
   "outputs": [],
   "source": [
    "from sklearn.cluster import KMeans\n",
    "from sklearn.preprocessing import normalize\n",
    "from sklearn.decomposition import PCA"
   ]
  },
  {
   "cell_type": "code",
   "execution_count": 6,
   "id": "0b70347b",
   "metadata": {},
   "outputs": [],
   "source": [
    "def get_vlad_vectors(k, all_descriptors, descriptors_list):\n",
    "    kmeans = KMeans(n_clusters=k, n_init=10, random_state=0)\n",
    "    kmeans.fit(all_descriptors)\n",
    "    vlad_vectors = []\n",
    "    pca = PCA(whiten=True)\n",
    "    for descriptors in descriptors_list:\n",
    "        if descriptors is None:\n",
    "            continue\n",
    "\n",
    "        cluster_assignments = kmeans.predict(descriptors)\n",
    "        vlad_vector = np.zeros((k, descriptors.shape[1]))  # (k, 128) vector\n",
    "\n",
    "        for idx, cluster_idx in enumerate(cluster_assignments):\n",
    "            vlad_vector[cluster_idx] += (descriptors[idx] - kmeans.cluster_centers_[cluster_idx])\n",
    "\n",
    "        # Power normalization\n",
    "        p = 0.5\n",
    "        vlad_vector = np.sign(vlad_vector) * np.abs(vlad_vector) ** p\n",
    "\n",
    "        vlad_vector = normalize(vlad_vector, norm='l2', axis=1)  # Normalize each row independently\n",
    "\n",
    "        vlad_vectors.append(vlad_vector.flatten())\n",
    "        \n",
    "    all_vlad_vectors = np.vstack(vlad_vectors)\n",
    "    all_vlad_vectors = pca.fit_transform(all_vlad_vectors)\n",
    "    all_vlad_vectors = normalize(all_vlad_vectors, norm='l2', axis=1)\n",
    "    \n",
    "    return all_vlad_vectors"
   ]
  },
  {
   "cell_type": "markdown",
   "id": "2d4b2a42",
   "metadata": {},
   "source": [
    "# Classifier"
   ]
  },
  {
   "cell_type": "code",
   "execution_count": 7,
   "id": "88afdf93",
   "metadata": {
    "scrolled": true
   },
   "outputs": [],
   "source": [
    "from sklearn.svm import SVC,LinearSVC\n",
    "from sklearn.metrics import classification_report\n",
    "from sklearn.metrics import accuracy_score\n",
    "from sklearn.metrics import confusion_matrix, ConfusionMatrixDisplay\n",
    "from sklearn.model_selection import train_test_split, cross_val_score\n",
    "from sklearn.utils import class_weight\n",
    "from collections import Counter\n",
    "import matplotlib.pyplot as plt"
   ]
  },
  {
   "cell_type": "markdown",
   "id": "546e8339",
   "metadata": {},
   "source": [
    "#### Preparing train and test data"
   ]
  },
  {
   "cell_type": "code",
   "execution_count": 9,
   "id": "d1f11d6c",
   "metadata": {},
   "outputs": [],
   "source": [
    "from imblearn.over_sampling import SMOTE\n",
    "\n",
    "def prepare_data(vlad_vectors, filtered_descriptors):\n",
    "    X = np.vstack(vlad_vectors)\n",
    "    y = filtered_descriptors\n",
    "\n",
    "    thresholds = [0, 0.33, 0.66, 1.0]\n",
    "    y_classes = [sum(1 for t in thresholds if value >= t) for value in y]\n",
    "\n",
    "    X_train, X_test, y_train, y_test = train_test_split(X, y_classes, test_size=0.25, random_state=42, stratify=y_classes)\n",
    "\n",
    "    sm = SMOTE(random_state=42)\n",
    "    X_train_resampled, y_train_resampled = sm.fit_resample(X_train, y_train)\n",
    "\n",
    "    # Distribution of classes in train and test sets\n",
    "    print(f'Training set class distribution: {Counter(y_train)}')\n",
    "    print(f'Test set class distribution: {Counter(y_test)}')\n",
    "\n",
    "    # Handling Class Imbalance\n",
    "    # Compute class weights\n",
    "    unique_classes = np.array([1, 2, 3, 4])\n",
    "    weights = class_weight.compute_class_weight('balanced', classes=unique_classes, y=y_train)\n",
    "    class_weights_dict = {cls: weight for cls, weight in zip(unique_classes, weights)}\n",
    "    \n",
    "    return X_train, X_test, y_train, y_test, class_weights_dict, X_train_resampled, y_train_resampled\n"
   ]
  },
  {
   "cell_type": "markdown",
   "id": "f05c3599",
   "metadata": {},
   "source": [
    "#### Five-fold cross-validation to select the best C"
   ]
  },
  {
   "cell_type": "code",
   "execution_count": 10,
   "id": "a41f4c80",
   "metadata": {},
   "outputs": [],
   "source": [
    "from sklearn.model_selection import GridSearchCV\n",
    "from sklearn.model_selection import RandomizedSearchCV\n",
    "\n",
    "def get_best_C(X_train, y_train, class_weights_dict):\n",
    "    # range of C values to test\n",
    "    # C_values = np.logspace(-4, 4, 10)\n",
    "    C_values = np.linspace(0.001, 1, 20)\n",
    "\n",
    "    # Create a dictionary to store average cross-validation scores for each C value\n",
    "    avg_scores = {}\n",
    "\n",
    "    # Loop over C values and perform five-fold cross-validation\n",
    "    for C in C_values:\n",
    "        svc = LinearSVC(C=C, dual=True, max_iter=10000, class_weight=class_weights_dict)\n",
    "\n",
    "        # Obtain the five cross-validation scores using accuracy as a metric\n",
    "        scores = cross_val_score(svc, X_train, y_train, cv=5, scoring='accuracy')\n",
    "\n",
    "        # average score for this C value\n",
    "        avg_scores[C] = scores.mean()\n",
    "\n",
    "    best_C = max(avg_scores, key=avg_scores.get)\n",
    "\n",
    "    print(f\"Best C value: {best_C}\")\n",
    "    print(f\"Average cross-validation score for best C: {avg_scores[best_C]}\")\n",
    "    \n",
    "    return best_C\n",
    "\n",
    "def get_best_params_SVM(kernel, X_train, y_train, class_weights_dict):\n",
    "    if kernel == 'linear':\n",
    "        param_grid = {\n",
    "            'C': np.linspace(0.001, 1, 20),\n",
    "            'class_weight': [None, class_weights_dict],\n",
    "        }\n",
    "        grid_search = GridSearchCV(LinearSVC(dual=True, max_iter=10000), param_grid, cv=5, scoring='accuracy')\n",
    "        grid_search.fit(X_train, y_train)\n",
    "        best_params = grid_search.best_params_\n",
    "    elif kernel == 'rbf':\n",
    "        param_grid = {\n",
    "            'C': np.logspace(-3, 3, 7),\n",
    "            'gamma': np.logspace(-3, 3, 7),\n",
    "            'class_weight': [None, class_weights_dict],\n",
    "        }\n",
    "        #grid_search = GridSearchCV(SVC(kernel='rbf'), param_grid, cv=5, scoring='accuracy')\n",
    "        rand_search = RandomizedSearchCV(SVC(kernel='rbf'), param_grid, n_iter=10, cv=5, scoring='accuracy', n_jobs=-1, verbose=1, random_state=42)\n",
    "        rand_search.fit(X_train, y_train)\n",
    "        best_params = rand_search.best_params_\n",
    "    \n",
    "\n",
    "    print(f\"Best parameters for {kernel} SVM:\", best_params)\n",
    "    return best_params\n"
   ]
  },
  {
   "cell_type": "markdown",
   "id": "5f69cebe",
   "metadata": {},
   "source": [
    "#### Train the SVM with class weights and display results"
   ]
  },
  {
   "cell_type": "code",
   "execution_count": 11,
   "id": "6ee6a978",
   "metadata": {
    "scrolled": true
   },
   "outputs": [],
   "source": [
    "def train_test_SVM(mode, best_C, class_weights_dict, X_train, y_train, X_test, y_test, gamma=None):    \n",
    "    if mode == 'linear':\n",
    "        clf = LinearSVC(C=best_C, dual=True, max_iter=10000, class_weight=class_weights_dict)\n",
    "        description = 'Linear'\n",
    "    elif mode == 'rbf':\n",
    "        description = 'RBF'\n",
    "        clf = SVC(kernel='rbf', C=best_C, gamma=gamma, class_weight=class_weights_dict)\n",
    "\n",
    "    \n",
    "    clf.fit(X_train, y_train)\n",
    "\n",
    "    # Predictions and evaluation\n",
    "    predictions = clf.predict(X_test)\n",
    "    print(f'{description} SVM Results:')\n",
    "    print(classification_report(y_test, predictions))\n",
    "\n",
    "    conf_matrix = confusion_matrix(y_test, predictions)\n",
    "    print(f'Confusion Matrix:{conf_matrix}\\n')\n",
    "\n",
    "    disp = ConfusionMatrixDisplay(confusion_matrix=conf_matrix, display_labels=clf.classes_)\n",
    "    disp.plot()\n",
    "    plt.show()"
   ]
  },
  {
   "cell_type": "markdown",
   "id": "2740e4b5",
   "metadata": {},
   "source": [
    "## Linear SVM & Non-linear Radial Basis Function (RBF) SVM"
   ]
  },
  {
   "cell_type": "code",
   "execution_count": 12,
   "id": "171d1299",
   "metadata": {
    "scrolled": false
   },
   "outputs": [
    {
     "name": "stderr",
     "output_type": "stream",
     "text": [
      "Extracting SIFT descriptors: 100%|\u001b[32m██████████\u001b[0m| 2624/2624 [00:20<00:00, 127.64it/s]\n"
     ]
    },
    {
     "name": "stdout",
     "output_type": "stream",
     "text": [
      "Training set class distribution: Counter({1: 1131, 4: 526, 2: 221, 3: 79})\n",
      "Test set class distribution: Counter({1: 377, 4: 175, 2: 74, 3: 27})\n",
      "Best parameters for linear SVM: {'C': 1.0, 'class_weight': None}\n",
      "Linear SVM Results:\n",
      "              precision    recall  f1-score   support\n",
      "\n",
      "           1       0.74      0.56      0.64       377\n",
      "           2       0.20      0.32      0.25        74\n",
      "           3       0.12      0.19      0.15        27\n",
      "           4       0.48      0.55      0.51       175\n",
      "\n",
      "    accuracy                           0.52       653\n",
      "   macro avg       0.38      0.41      0.39       653\n",
      "weighted avg       0.58      0.52      0.54       653\n",
      "\n",
      "Confusion Matrix:[[213  56  21  87]\n",
      " [ 30  24   6  14]\n",
      " [  7   9   5   6]\n",
      " [ 37  32   9  97]]\n",
      "\n"
     ]
    },
    {
     "data": {
      "image/png": "[encoded data removed]",
      "text/plain": [
       "<Figure size 640x480 with 2 Axes>"
      ]
     },
     "metadata": {},
     "output_type": "display_data"
    },
    {
     "name": "stdout",
     "output_type": "stream",
     "text": [
      "Fitting 5 folds for each of 10 candidates, totalling 50 fits\n"
     ]
    },
    {
     "ename": "TerminatedWorkerError",
     "evalue": "A worker process managed by the executor was unexpectedly terminated. This could be caused by a segmentation fault while calling the function or by an excessive memory usage causing the Operating System to kill the worker.\n",
     "output_type": "error",
     "traceback": [
      "\u001b[1;31m---------------------------------------------------------------------------\u001b[0m",
      "\u001b[1;31mTerminatedWorkerError\u001b[0m                     Traceback (most recent call last)",
      "\u001b[1;32m~\\AppData\\Local\\Temp\\ipykernel_8240\\3861739587.py\u001b[0m in \u001b[0;36m<module>\u001b[1;34m\u001b[0m\n\u001b[0;32m     16\u001b[0m     \u001b[0mtrain_test_SVM\u001b[0m\u001b[1;33m(\u001b[0m\u001b[1;34m'linear'\u001b[0m\u001b[1;33m,\u001b[0m \u001b[0mbest_params_linear\u001b[0m\u001b[1;33m[\u001b[0m\u001b[1;34m'C'\u001b[0m\u001b[1;33m]\u001b[0m\u001b[1;33m,\u001b[0m \u001b[0mclass_weights_dict\u001b[0m\u001b[1;33m,\u001b[0m \u001b[0mX_train_resampled\u001b[0m\u001b[1;33m,\u001b[0m \u001b[0my_train_resampled\u001b[0m\u001b[1;33m,\u001b[0m \u001b[0mX_test\u001b[0m\u001b[1;33m,\u001b[0m \u001b[0my_test\u001b[0m\u001b[1;33m)\u001b[0m\u001b[1;33m\u001b[0m\u001b[1;33m\u001b[0m\u001b[0m\n\u001b[0;32m     17\u001b[0m \u001b[1;33m\u001b[0m\u001b[0m\n\u001b[1;32m---> 18\u001b[1;33m     \u001b[0mbest_params_rbf\u001b[0m \u001b[1;33m=\u001b[0m \u001b[0mget_best_params_SVM\u001b[0m\u001b[1;33m(\u001b[0m\u001b[1;34m'rbf'\u001b[0m\u001b[1;33m,\u001b[0m \u001b[0mX_train_resampled\u001b[0m\u001b[1;33m,\u001b[0m \u001b[0my_train_resampled\u001b[0m\u001b[1;33m,\u001b[0m \u001b[0mclass_weights_dict\u001b[0m\u001b[1;33m)\u001b[0m\u001b[1;33m\u001b[0m\u001b[1;33m\u001b[0m\u001b[0m\n\u001b[0m\u001b[0;32m     19\u001b[0m     \u001b[0mtrain_test_SVM\u001b[0m\u001b[1;33m(\u001b[0m\u001b[1;34m'rbf'\u001b[0m\u001b[1;33m,\u001b[0m \u001b[0mbest_params_rbf\u001b[0m\u001b[1;33m[\u001b[0m\u001b[1;34m'C'\u001b[0m\u001b[1;33m]\u001b[0m\u001b[1;33m,\u001b[0m \u001b[0mclass_weights_dict\u001b[0m\u001b[1;33m,\u001b[0m \u001b[0mX_train_resampled\u001b[0m\u001b[1;33m,\u001b[0m \u001b[0my_train_resampled\u001b[0m\u001b[1;33m,\u001b[0m \u001b[0mX_test\u001b[0m\u001b[1;33m,\u001b[0m \u001b[0my_test\u001b[0m\u001b[1;33m,\u001b[0m \u001b[0mgamma\u001b[0m\u001b[1;33m=\u001b[0m\u001b[0mbest_params_rbf\u001b[0m\u001b[1;33m[\u001b[0m\u001b[1;34m'gamma'\u001b[0m\u001b[1;33m]\u001b[0m\u001b[1;33m)\u001b[0m\u001b[1;33m\u001b[0m\u001b[1;33m\u001b[0m\u001b[0m\n\u001b[0;32m     20\u001b[0m \u001b[1;33m\u001b[0m\u001b[0m\n",
      "\u001b[1;32m~\\AppData\\Local\\Temp\\ipykernel_8240\\90518231.py\u001b[0m in \u001b[0;36mget_best_params_SVM\u001b[1;34m(kernel, X_train, y_train, class_weights_dict)\u001b[0m\n\u001b[0;32m     44\u001b[0m         \u001b[1;31m#grid_search = GridSearchCV(SVC(kernel='rbf'), param_grid, cv=5, scoring='accuracy')\u001b[0m\u001b[1;33m\u001b[0m\u001b[1;33m\u001b[0m\u001b[1;33m\u001b[0m\u001b[0m\n\u001b[0;32m     45\u001b[0m         \u001b[0mrand_search\u001b[0m \u001b[1;33m=\u001b[0m \u001b[0mRandomizedSearchCV\u001b[0m\u001b[1;33m(\u001b[0m\u001b[0mSVC\u001b[0m\u001b[1;33m(\u001b[0m\u001b[0mkernel\u001b[0m\u001b[1;33m=\u001b[0m\u001b[1;34m'rbf'\u001b[0m\u001b[1;33m)\u001b[0m\u001b[1;33m,\u001b[0m \u001b[0mparam_grid\u001b[0m\u001b[1;33m,\u001b[0m \u001b[0mn_iter\u001b[0m\u001b[1;33m=\u001b[0m\u001b[1;36m10\u001b[0m\u001b[1;33m,\u001b[0m \u001b[0mcv\u001b[0m\u001b[1;33m=\u001b[0m\u001b[1;36m5\u001b[0m\u001b[1;33m,\u001b[0m \u001b[0mscoring\u001b[0m\u001b[1;33m=\u001b[0m\u001b[1;34m'accuracy'\u001b[0m\u001b[1;33m,\u001b[0m \u001b[0mn_jobs\u001b[0m\u001b[1;33m=\u001b[0m\u001b[1;33m-\u001b[0m\u001b[1;36m1\u001b[0m\u001b[1;33m,\u001b[0m \u001b[0mverbose\u001b[0m\u001b[1;33m=\u001b[0m\u001b[1;36m1\u001b[0m\u001b[1;33m,\u001b[0m \u001b[0mrandom_state\u001b[0m\u001b[1;33m=\u001b[0m\u001b[1;36m42\u001b[0m\u001b[1;33m)\u001b[0m\u001b[1;33m\u001b[0m\u001b[1;33m\u001b[0m\u001b[0m\n\u001b[1;32m---> 46\u001b[1;33m         \u001b[0mrand_search\u001b[0m\u001b[1;33m.\u001b[0m\u001b[0mfit\u001b[0m\u001b[1;33m(\u001b[0m\u001b[0mX_train\u001b[0m\u001b[1;33m,\u001b[0m \u001b[0my_train\u001b[0m\u001b[1;33m)\u001b[0m\u001b[1;33m\u001b[0m\u001b[1;33m\u001b[0m\u001b[0m\n\u001b[0m\u001b[0;32m     47\u001b[0m         \u001b[0mbest_params\u001b[0m \u001b[1;33m=\u001b[0m \u001b[0mrand_search\u001b[0m\u001b[1;33m.\u001b[0m\u001b[0mbest_params_\u001b[0m\u001b[1;33m\u001b[0m\u001b[1;33m\u001b[0m\u001b[0m\n\u001b[0;32m     48\u001b[0m \u001b[1;33m\u001b[0m\u001b[0m\n",
      "\u001b[1;32mc:\\Users\\shady\\anaconda3\\envs\\COMP9517\\lib\\site-packages\\sklearn\\model_selection\\_search.py\u001b[0m in \u001b[0;36mfit\u001b[1;34m(self, X, y, groups, **fit_params)\u001b[0m\n\u001b[0;32m    889\u001b[0m                 \u001b[1;32mreturn\u001b[0m \u001b[0mresults\u001b[0m\u001b[1;33m\u001b[0m\u001b[1;33m\u001b[0m\u001b[0m\n\u001b[0;32m    890\u001b[0m \u001b[1;33m\u001b[0m\u001b[0m\n\u001b[1;32m--> 891\u001b[1;33m             \u001b[0mself\u001b[0m\u001b[1;33m.\u001b[0m\u001b[0m_run_search\u001b[0m\u001b[1;33m(\u001b[0m\u001b[0mevaluate_candidates\u001b[0m\u001b[1;33m)\u001b[0m\u001b[1;33m\u001b[0m\u001b[1;33m\u001b[0m\u001b[0m\n\u001b[0m\u001b[0;32m    892\u001b[0m \u001b[1;33m\u001b[0m\u001b[0m\n\u001b[0;32m    893\u001b[0m             \u001b[1;31m# multimetric is determined here because in the case of a callable\u001b[0m\u001b[1;33m\u001b[0m\u001b[1;33m\u001b[0m\u001b[1;33m\u001b[0m\u001b[0m\n",
      "\u001b[1;32mc:\\Users\\shady\\anaconda3\\envs\\COMP9517\\lib\\site-packages\\sklearn\\model_selection\\_search.py\u001b[0m in \u001b[0;36m_run_search\u001b[1;34m(self, evaluate_candidates)\u001b[0m\n\u001b[0;32m   1766\u001b[0m         evaluate_candidates(\n\u001b[0;32m   1767\u001b[0m             ParameterSampler(\n\u001b[1;32m-> 1768\u001b[1;33m                 \u001b[0mself\u001b[0m\u001b[1;33m.\u001b[0m\u001b[0mparam_distributions\u001b[0m\u001b[1;33m,\u001b[0m \u001b[0mself\u001b[0m\u001b[1;33m.\u001b[0m\u001b[0mn_iter\u001b[0m\u001b[1;33m,\u001b[0m \u001b[0mrandom_state\u001b[0m\u001b[1;33m=\u001b[0m\u001b[0mself\u001b[0m\u001b[1;33m.\u001b[0m\u001b[0mrandom_state\u001b[0m\u001b[1;33m\u001b[0m\u001b[1;33m\u001b[0m\u001b[0m\n\u001b[0m\u001b[0;32m   1769\u001b[0m             )\n\u001b[0;32m   1770\u001b[0m         )\n",
      "\u001b[1;32mc:\\Users\\shady\\anaconda3\\envs\\COMP9517\\lib\\site-packages\\sklearn\\model_selection\\_search.py\u001b[0m in \u001b[0;36mevaluate_candidates\u001b[1;34m(candidate_params, cv, more_results)\u001b[0m\n\u001b[0;32m    849\u001b[0m                     )\n\u001b[0;32m    850\u001b[0m                     for (cand_idx, parameters), (split_idx, (train, test)) in product(\n\u001b[1;32m--> 851\u001b[1;33m                         \u001b[0menumerate\u001b[0m\u001b[1;33m(\u001b[0m\u001b[0mcandidate_params\u001b[0m\u001b[1;33m)\u001b[0m\u001b[1;33m,\u001b[0m \u001b[0menumerate\u001b[0m\u001b[1;33m(\u001b[0m\u001b[0mcv\u001b[0m\u001b[1;33m.\u001b[0m\u001b[0msplit\u001b[0m\u001b[1;33m(\u001b[0m\u001b[0mX\u001b[0m\u001b[1;33m,\u001b[0m \u001b[0my\u001b[0m\u001b[1;33m,\u001b[0m \u001b[0mgroups\u001b[0m\u001b[1;33m)\u001b[0m\u001b[1;33m)\u001b[0m\u001b[1;33m\u001b[0m\u001b[1;33m\u001b[0m\u001b[0m\n\u001b[0m\u001b[0;32m    852\u001b[0m                     )\n\u001b[0;32m    853\u001b[0m                 )\n",
      "\u001b[1;32mc:\\Users\\shady\\anaconda3\\envs\\COMP9517\\lib\\site-packages\\joblib\\parallel.py\u001b[0m in \u001b[0;36m__call__\u001b[1;34m(self, iterable)\u001b[0m\n\u001b[0;32m   1950\u001b[0m         \u001b[0mnext\u001b[0m\u001b[1;33m(\u001b[0m\u001b[0moutput\u001b[0m\u001b[1;33m)\u001b[0m\u001b[1;33m\u001b[0m\u001b[1;33m\u001b[0m\u001b[0m\n\u001b[0;32m   1951\u001b[0m \u001b[1;33m\u001b[0m\u001b[0m\n\u001b[1;32m-> 1952\u001b[1;33m         \u001b[1;32mreturn\u001b[0m \u001b[0moutput\u001b[0m \u001b[1;32mif\u001b[0m \u001b[0mself\u001b[0m\u001b[1;33m.\u001b[0m\u001b[0mreturn_generator\u001b[0m \u001b[1;32melse\u001b[0m \u001b[0mlist\u001b[0m\u001b[1;33m(\u001b[0m\u001b[0moutput\u001b[0m\u001b[1;33m)\u001b[0m\u001b[1;33m\u001b[0m\u001b[1;33m\u001b[0m\u001b[0m\n\u001b[0m\u001b[0;32m   1953\u001b[0m \u001b[1;33m\u001b[0m\u001b[0m\n\u001b[0;32m   1954\u001b[0m     \u001b[1;32mdef\u001b[0m \u001b[0m__repr__\u001b[0m\u001b[1;33m(\u001b[0m\u001b[0mself\u001b[0m\u001b[1;33m)\u001b[0m\u001b[1;33m:\u001b[0m\u001b[1;33m\u001b[0m\u001b[1;33m\u001b[0m\u001b[0m\n",
      "\u001b[1;32mc:\\Users\\shady\\anaconda3\\envs\\COMP9517\\lib\\site-packages\\joblib\\parallel.py\u001b[0m in \u001b[0;36m_get_outputs\u001b[1;34m(self, iterator, pre_dispatch)\u001b[0m\n\u001b[0;32m   1593\u001b[0m \u001b[1;33m\u001b[0m\u001b[0m\n\u001b[0;32m   1594\u001b[0m             \u001b[1;32mwith\u001b[0m \u001b[0mself\u001b[0m\u001b[1;33m.\u001b[0m\u001b[0m_backend\u001b[0m\u001b[1;33m.\u001b[0m\u001b[0mretrieval_context\u001b[0m\u001b[1;33m(\u001b[0m\u001b[1;33m)\u001b[0m\u001b[1;33m:\u001b[0m\u001b[1;33m\u001b[0m\u001b[1;33m\u001b[0m\u001b[0m\n\u001b[1;32m-> 1595\u001b[1;33m                 \u001b[1;32myield\u001b[0m \u001b[1;32mfrom\u001b[0m \u001b[0mself\u001b[0m\u001b[1;33m.\u001b[0m\u001b[0m_retrieve\u001b[0m\u001b[1;33m(\u001b[0m\u001b[1;33m)\u001b[0m\u001b[1;33m\u001b[0m\u001b[1;33m\u001b[0m\u001b[0m\n\u001b[0m\u001b[0;32m   1596\u001b[0m \u001b[1;33m\u001b[0m\u001b[0m\n\u001b[0;32m   1597\u001b[0m         \u001b[1;32mexcept\u001b[0m \u001b[0mGeneratorExit\u001b[0m\u001b[1;33m:\u001b[0m\u001b[1;33m\u001b[0m\u001b[1;33m\u001b[0m\u001b[0m\n",
      "\u001b[1;32mc:\\Users\\shady\\anaconda3\\envs\\COMP9517\\lib\\site-packages\\joblib\\parallel.py\u001b[0m in \u001b[0;36m_retrieve\u001b[1;34m(self)\u001b[0m\n\u001b[0;32m   1697\u001b[0m             \u001b[1;31m# worker traceback.\u001b[0m\u001b[1;33m\u001b[0m\u001b[1;33m\u001b[0m\u001b[1;33m\u001b[0m\u001b[0m\n\u001b[0;32m   1698\u001b[0m             \u001b[1;32mif\u001b[0m \u001b[0mself\u001b[0m\u001b[1;33m.\u001b[0m\u001b[0m_aborting\u001b[0m\u001b[1;33m:\u001b[0m\u001b[1;33m\u001b[0m\u001b[1;33m\u001b[0m\u001b[0m\n\u001b[1;32m-> 1699\u001b[1;33m                 \u001b[0mself\u001b[0m\u001b[1;33m.\u001b[0m\u001b[0m_raise_error_fast\u001b[0m\u001b[1;33m(\u001b[0m\u001b[1;33m)\u001b[0m\u001b[1;33m\u001b[0m\u001b[1;33m\u001b[0m\u001b[0m\n\u001b[0m\u001b[0;32m   1700\u001b[0m                 \u001b[1;32mbreak\u001b[0m\u001b[1;33m\u001b[0m\u001b[1;33m\u001b[0m\u001b[0m\n\u001b[0;32m   1701\u001b[0m \u001b[1;33m\u001b[0m\u001b[0m\n",
      "\u001b[1;32mc:\\Users\\shady\\anaconda3\\envs\\COMP9517\\lib\\site-packages\\joblib\\parallel.py\u001b[0m in \u001b[0;36m_raise_error_fast\u001b[1;34m(self)\u001b[0m\n\u001b[0;32m   1732\u001b[0m         \u001b[1;31m# called directly or if the generator is gc'ed.\u001b[0m\u001b[1;33m\u001b[0m\u001b[1;33m\u001b[0m\u001b[1;33m\u001b[0m\u001b[0m\n\u001b[0;32m   1733\u001b[0m         \u001b[1;32mif\u001b[0m \u001b[0merror_job\u001b[0m \u001b[1;32mis\u001b[0m \u001b[1;32mnot\u001b[0m \u001b[1;32mNone\u001b[0m\u001b[1;33m:\u001b[0m\u001b[1;33m\u001b[0m\u001b[1;33m\u001b[0m\u001b[0m\n\u001b[1;32m-> 1734\u001b[1;33m             \u001b[0merror_job\u001b[0m\u001b[1;33m.\u001b[0m\u001b[0mget_result\u001b[0m\u001b[1;33m(\u001b[0m\u001b[0mself\u001b[0m\u001b[1;33m.\u001b[0m\u001b[0mtimeout\u001b[0m\u001b[1;33m)\u001b[0m\u001b[1;33m\u001b[0m\u001b[1;33m\u001b[0m\u001b[0m\n\u001b[0m\u001b[0;32m   1735\u001b[0m \u001b[1;33m\u001b[0m\u001b[0m\n\u001b[0;32m   1736\u001b[0m     \u001b[1;32mdef\u001b[0m \u001b[0m_warn_exit_early\u001b[0m\u001b[1;33m(\u001b[0m\u001b[0mself\u001b[0m\u001b[1;33m)\u001b[0m\u001b[1;33m:\u001b[0m\u001b[1;33m\u001b[0m\u001b[1;33m\u001b[0m\u001b[0m\n",
      "\u001b[1;32mc:\\Users\\shady\\anaconda3\\envs\\COMP9517\\lib\\site-packages\\joblib\\parallel.py\u001b[0m in \u001b[0;36mget_result\u001b[1;34m(self, timeout)\u001b[0m\n\u001b[0;32m    734\u001b[0m             \u001b[1;31m# callback thread, and is stored internally. It's just waiting to\u001b[0m\u001b[1;33m\u001b[0m\u001b[1;33m\u001b[0m\u001b[1;33m\u001b[0m\u001b[0m\n\u001b[0;32m    735\u001b[0m             \u001b[1;31m# be returned.\u001b[0m\u001b[1;33m\u001b[0m\u001b[1;33m\u001b[0m\u001b[1;33m\u001b[0m\u001b[0m\n\u001b[1;32m--> 736\u001b[1;33m             \u001b[1;32mreturn\u001b[0m \u001b[0mself\u001b[0m\u001b[1;33m.\u001b[0m\u001b[0m_return_or_raise\u001b[0m\u001b[1;33m(\u001b[0m\u001b[1;33m)\u001b[0m\u001b[1;33m\u001b[0m\u001b[1;33m\u001b[0m\u001b[0m\n\u001b[0m\u001b[0;32m    737\u001b[0m \u001b[1;33m\u001b[0m\u001b[0m\n\u001b[0;32m    738\u001b[0m         \u001b[1;31m# For other backends, the main thread needs to run the retrieval step.\u001b[0m\u001b[1;33m\u001b[0m\u001b[1;33m\u001b[0m\u001b[1;33m\u001b[0m\u001b[0m\n",
      "\u001b[1;32mc:\\Users\\shady\\anaconda3\\envs\\COMP9517\\lib\\site-packages\\joblib\\parallel.py\u001b[0m in \u001b[0;36m_return_or_raise\u001b[1;34m(self)\u001b[0m\n\u001b[0;32m    752\u001b[0m         \u001b[1;32mtry\u001b[0m\u001b[1;33m:\u001b[0m\u001b[1;33m\u001b[0m\u001b[1;33m\u001b[0m\u001b[0m\n\u001b[0;32m    753\u001b[0m             \u001b[1;32mif\u001b[0m \u001b[0mself\u001b[0m\u001b[1;33m.\u001b[0m\u001b[0mstatus\u001b[0m \u001b[1;33m==\u001b[0m \u001b[0mTASK_ERROR\u001b[0m\u001b[1;33m:\u001b[0m\u001b[1;33m\u001b[0m\u001b[1;33m\u001b[0m\u001b[0m\n\u001b[1;32m--> 754\u001b[1;33m                 \u001b[1;32mraise\u001b[0m \u001b[0mself\u001b[0m\u001b[1;33m.\u001b[0m\u001b[0m_result\u001b[0m\u001b[1;33m\u001b[0m\u001b[1;33m\u001b[0m\u001b[0m\n\u001b[0m\u001b[0;32m    755\u001b[0m             \u001b[1;32mreturn\u001b[0m \u001b[0mself\u001b[0m\u001b[1;33m.\u001b[0m\u001b[0m_result\u001b[0m\u001b[1;33m\u001b[0m\u001b[1;33m\u001b[0m\u001b[0m\n\u001b[0;32m    756\u001b[0m         \u001b[1;32mfinally\u001b[0m\u001b[1;33m:\u001b[0m\u001b[1;33m\u001b[0m\u001b[1;33m\u001b[0m\u001b[0m\n",
      "\u001b[1;31mTerminatedWorkerError\u001b[0m: A worker process managed by the executor was unexpectedly terminated. This could be caused by a segmentation fault while calling the function or by an excessive memory usage causing the Operating System to kill the worker.\n"
     ]
    }
   ],
   "source": [
    "feature_ex_methods = ['sift', 'kaze', 'orb', 'brisk']\n",
    "\n",
    "for method in feature_ex_methods:\n",
    "    descriptors_list, filtered_descriptors, all_descriptors = extract_features(images, probs, method)\n",
    "    vlad_vectors = get_vlad_vectors(6, all_descriptors, descriptors_list)\n",
    "    \n",
    "    X_train, X_test, y_train, y_test, class_weights_dict, X_train_resampled, y_train_resampled = prepare_data(vlad_vectors, filtered_descriptors)\n",
    "    \n",
    "    #best_C = get_best_C(X_train, y_train, class_weights_dict)\n",
    "    \n",
    "#     train_test_SVM('linear', best_C, class_weights_dict, X_train_resampled, y_train_resampled, X_test, y_test)\n",
    "    \n",
    "#     train_test_SVM('rbf', best_C, class_weights_dict, X_train, y_train, X_test, y_test)\n",
    "    \n",
    "    best_params_linear = get_best_params_SVM('linear', X_train_resampled, y_train_resampled, class_weights_dict)\n",
    "    train_test_SVM('linear', best_params_linear['C'], class_weights_dict, X_train_resampled, y_train_resampled, X_test, y_test)\n",
    "    \n",
    "    best_params_rbf = get_best_params_SVM('rbf', X_train_resampled, y_train_resampled, class_weights_dict)\n",
    "    train_test_SVM('rbf', best_params_rbf['C'], class_weights_dict, X_train_resampled, y_train_resampled, X_test, y_test, gamma=best_params_rbf['gamma'])\n",
    "    "
   ]
  }
 ],
 "metadata": {
  "kernelspec": {
   "display_name": "Python 3 (ipykernel)",
   "language": "python",
   "name": "python3"
  },
  "language_info": {
   "codemirror_mode": {
    "name": "ipython",
    "version": 3
   },
   "file_extension": ".py",
   "mimetype": "text/x-python",
   "name": "python",
   "nbconvert_exporter": "python",
   "pygments_lexer": "ipython3",
   "version": "3.7.10"
  }
 },
 "nbformat": 4,
 "nbformat_minor": 5
}
